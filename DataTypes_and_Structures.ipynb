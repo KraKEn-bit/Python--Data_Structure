{
  "nbformat": 4,
  "nbformat_minor": 0,
  "metadata": {
    "colab": {
      "provenance": []
    },
    "kernelspec": {
      "name": "python3",
      "display_name": "Python 3"
    },
    "language_info": {
      "name": "python"
    }
  },
  "cells": [
    {
      "cell_type": "markdown",
      "source": [
        "1. What are data structures, and why are they important?\n",
        "\n",
        " Ans: A data structure is a way of organizing, storing, and managing data in a computer so that it can be used efficiently.\n",
        "\n",
        " 1.Well-chosen data structures improve the efficiency of algorithms by reducing time and space complexity.\n",
        " 2.Certain problems can only be solved efficiently using specific data structures. For example, graphs are used for network routing problems.\n",
        "\n",
        " 3.Efficient data structures help handle large amounts of data, which is crucial in fields like databases, AI, and web applications.\n",
        "\n",
        "2. Explain the difference between mutable and immutable data types with examples.\n",
        "  \n",
        "  Ans: In immutable data types we can't do any changes to the datas where in mutable datatypes we can perform changes at any time by ourselves.\n",
        "\n",
        "3. What are the main differences between lists and tuples in Python?\n",
        "  \n",
        "  Ans: Tuples are immutable meaning you can't perform any changes to it and lists are mutable meaning you can change the datas at any time.\n",
        "4. Describe how dictionaries store data.\n",
        "\n",
        "  Ans: Dictionaries in Python store data as key-value pairs using a hash table.\n",
        "      \n",
        "      Structure:\n",
        "      \n",
        "      1.Each key is unique and hashed to determine its storage location.\n",
        "      \n",
        "      2.The value is stored at the computed index in memory.\n",
        "      \n",
        "      3.Python uses open addressing to handle hash collisions.\n",
        "5. Why might you use a set instead of a list in Python?\n",
        "  \n",
        "  Ans: In lists we can use any values as much as we want but when performing operations with them we would have to consider everything but in set those multiple times values can be handled by converting them into single values.That means to eliminate duplicates I may use sets.\n",
        "6.  What is a string in Python, and how is it different from a list?\n",
        "  \n",
        "  Ans:A string in Python is a sequence of characters enclosed in quotes (' ', \" \", ''' ''', \"\"\" \"\"\"). It is an immutable data type. And Lists are mutable.\n",
        "7. How do tuples ensure data integrity in Python?\n",
        "\n",
        "  Ans: Tuples ensure data integrity by being immutable, meaning their elements cannot be changed, added, or removed after creation. This prevents accidental modifications, making them ideal for storing fixed, reliable data.\n",
        "8.  What is a hash table, and how does it relate to dictionaries in Python?\n",
        "\n",
        "  Ans: A hash table is a data structure that stores key-value pairs. It uses a hash function to compute an index where the value associated with a key is stored. This allows for fast lookups, insertions, and deletions on average.\n",
        "9. Can lists contain different data types in Python?\n",
        "\n",
        "  Ans: Yes, Lists can contain different data types in python like:- string,integers,booleans,floats etc.\n",
        "10. Explain why strings are immutable in Python.\n",
        "  \n",
        "  Ans: Example:\n",
        "    str = \"Rafsan\"\n",
        "    str[0] = \"Z\"\n",
        "    print(str)\n",
        "      \n",
        "      it will show an error as strings are immutable.\n",
        "11. What advantages do dictionaries offer over lists for certain tasks?\n",
        "\n",
        "  Ans:\n",
        "\n",
        "  1.Dictionaries provide O(1) average time complexity for accessing, inserting, or deleting items using keys. In contrast, lists require O(n) time for searching elements because they are indexed by position.\n",
        "  2.Dictionaries store data as key-value pairs, making them ideal for tasks where you need to associate specific data.Lists store data sequentially, which can be inefficient when associating values with specific identifiers.\n",
        "12. Describe a scenario where using a tuple would be preferable over a list.\n",
        "\n",
        "  Ans: Fo example: I am working on a geographic scnes where I need to work on many cordinates like latitudes,longtitudes for different locations and as these are geographic values these can't be changed. So in for those cases we can use tuples instead of lists for strong holds of the datas.\n",
        "13. How do sets handle duplicate values in Python?\n",
        "\n",
        "  Ans: In Python, sets automatically remove duplicate values. When you try to add an element to a set that already exists in the set, the set will ignore the new element, ensuring that each element is unique. Sets set the datas unorderly as they are unordered data structure.\n",
        "14. How does the “in” keyword work differently for lists and dictionaries?\n",
        "\n",
        "  Ans: The in keyword in Python is used to check if an element exists in a collection like a list or dictionary, but its behavior differs based on the type of collection.\n",
        "\n",
        "  1.When you use in with a list, Python checks whether the element exists in the list. This means it will iterate over each item in the list and return True if it finds a match.\n",
        "  \n",
        "  2.When you use in with a dictionary, Python checks if the key exists in the dictionary (not the value). It looks for the key in the dictionary's internal structure (hash table).\n",
        "15. Can you modify the elements of a tuple? Explain why or why not?\n",
        "\n",
        "  Ans: No, I can't modify the elements of a tuple. Because tuples are immutable.We can't change its datas. They fix the memory locations for each datas.\n",
        "16. What is a nested dictionary, and give an example of its use case?\n",
        "\n",
        "  Ans: A nested dictionary is a dictionary where the values are themselves dictionaries. This allows you to create more complex data structures where each key can hold another dictionary, enabling multi-level data storage.\n",
        "   \n",
        "   Structure of a Nested Dictionary:\n",
        "  The outer dictionary contains keys.\n",
        "  The values corresponding to those keys are themselves dictionaries, and those dictionaries can also have their own keys and values.\n",
        "  Example:\n",
        "    students = {\n",
        "    \"Alice\": {\n",
        "        \"age\": 20,\n",
        "        \"grades\": {\"math\": 95, \"science\": 90, \"history\": 88}\n",
        "    },\n",
        "    \"Bob\": {\n",
        "        \"age\": 22,\n",
        "        \"grades\": {\"math\": 78, \"science\": 85, \"history\": 92}\n",
        "    },\n",
        "    \"Charlie\": {\n",
        "        \"age\": 21,\n",
        "        \"grades\": {\"math\": 89, \"science\": 94, \"history\": 90}\n",
        "    }\n",
        "17. Describe the time complexity of accessing elements in a dictionary.\n",
        "\n",
        "  Ans: Average case:\n",
        "  \n",
        "  The time complexity for accessing an element in a dictionary (using the key) is O(1) on average. This is because hash tables use the key's hash value to quickly find the location of the corresponding value in constant time.\n",
        "  \n",
        "  Worst cas:\n",
        "\n",
        "  The worst-case time complexity is O(n), which can occur when there are a large number of hash collisions.   \n",
        "18. In what situations are lists preferred over dictionaries?\n",
        "  \n",
        "  Ans:\n",
        "\n",
        "  1.Lists maintain the order of elements.\n",
        "\n",
        "  2.Lists can store duplicate elements, whereas dictionaries automatically remove duplicates since they rely on keys for access.\n",
        "\n",
        "  3.Lists allow you to access elements by their index\n",
        "\n",
        "  4.Lists are better when you need to iterate over the elements in order, especially when the order is significant or you want to perform some operation on each element sequentially.\n",
        "\n",
        " 19. Why are dictionaries considered unordered, and how does that affect data retrieval?\n",
        "\n",
        "  Ans:\n",
        "  Dictionaries in Python are considered unordered because their elements are stored in a hash table rather than in a sequence. When you add key-value pairs to a dictionary, Python doesn't guarantee any specific order for how the items are stored or retrieved.\n",
        "20.  Explain the difference between a list and a dictionary in terms of data retrieval.\n",
        "  \n",
        "  Ans:In Python, lists and dictionaries handle data retrieval differently. Lists are ordered collections, and data retrieval is done via an index, making it efficient (O(1)) when accessing elements by position. However, searching for an item by value in a list takes O(n) time since it requires iterating through all the elements. On the other hand, dictionaries store data in key-value pairs and use a hash table to quickly retrieve values using a specific key. This gives them an average access time of O(1) for key-based lookups. While dictionaries are unordered, they are much faster for retrieving data by key compared to lists, which are more suitable when order is important."
      ],
      "metadata": {
        "id": "Tw5rdKSpMBZg"
      }
    },
    {
      "cell_type": "code",
      "execution_count": 2,
      "metadata": {
        "colab": {
          "base_uri": "https://localhost:8080/"
        },
        "id": "HxoMkTOeIvrS",
        "outputId": "ac66a5c8-6398-42f4-d40b-db8029be0f76"
      },
      "outputs": [
        {
          "output_type": "stream",
          "name": "stdout",
          "text": [
            "Rafsan Kabir\n"
          ]
        }
      ],
      "source": [
        "#1.Write a code to create a string with your name and print it.\n",
        "name = \"Rafsan Kabir\"\n",
        "print(name)"
      ]
    },
    {
      "cell_type": "code",
      "source": [
        "#2. Write a code to find the length of the string \"Hello World\".\n",
        "greetings = \"Hello World\"\n",
        "print(len(greetings))"
      ],
      "metadata": {
        "colab": {
          "base_uri": "https://localhost:8080/"
        },
        "id": "pbB__U2SWYaB",
        "outputId": "3c406659-4ebf-4529-8e29-0c42b422c112"
      },
      "execution_count": 3,
      "outputs": [
        {
          "output_type": "stream",
          "name": "stdout",
          "text": [
            "11\n"
          ]
        }
      ]
    },
    {
      "cell_type": "code",
      "source": [
        "#3.  Write a code to slice the first 3 characters from the string \"Python Programming\".\n",
        "line = \"Python Programming\"\n",
        "print(line[0:3])"
      ],
      "metadata": {
        "colab": {
          "base_uri": "https://localhost:8080/"
        },
        "id": "PbdKAeTGW28L",
        "outputId": "4d135429-7a91-4eba-bd80-19322f92a351"
      },
      "execution_count": 6,
      "outputs": [
        {
          "output_type": "stream",
          "name": "stdout",
          "text": [
            "Pyt\n"
          ]
        }
      ]
    },
    {
      "cell_type": "code",
      "source": [
        "#4. Write a code to convert the string \"hello\" to uppercase.\n",
        "string = \"Hello\"\n",
        "new_str = string.upper()\n",
        "print(new_str)"
      ],
      "metadata": {
        "colab": {
          "base_uri": "https://localhost:8080/"
        },
        "id": "tNvsqSigXToI",
        "outputId": "8ef499f3-10f1-4421-c9ee-6a73796bf8e5"
      },
      "execution_count": 8,
      "outputs": [
        {
          "output_type": "stream",
          "name": "stdout",
          "text": [
            "HELLO\n"
          ]
        }
      ]
    },
    {
      "cell_type": "code",
      "source": [
        "#5. Write a code to replace the word \"apple\" with \"orange\" in the string \"I like apple\".\n",
        "string = \"I like apple\"\n",
        "new_str = string.replace(\"apple\",\"orange\")\n",
        "print(new_str)"
      ],
      "metadata": {
        "colab": {
          "base_uri": "https://localhost:8080/"
        },
        "id": "n0epK-Q9Xmk4",
        "outputId": "122cb3e6-b73c-48ae-c769-9639fdabf444"
      },
      "execution_count": 9,
      "outputs": [
        {
          "output_type": "stream",
          "name": "stdout",
          "text": [
            "I like orange\n"
          ]
        }
      ]
    },
    {
      "cell_type": "code",
      "source": [
        "#6. Write a code to create a list with numbers 1 to 5 and print it.\n",
        "lst = [1,2,3,4,5]\n",
        "print(lst)"
      ],
      "metadata": {
        "colab": {
          "base_uri": "https://localhost:8080/"
        },
        "id": "7hCXsZbbX3AZ",
        "outputId": "542172d1-78eb-48b3-bb81-38cfb777aac2"
      },
      "execution_count": 10,
      "outputs": [
        {
          "output_type": "stream",
          "name": "stdout",
          "text": [
            "[1, 2, 3, 4, 5]\n"
          ]
        }
      ]
    },
    {
      "cell_type": "code",
      "source": [
        "#7. Write a code to append the number 10 to the list [1, 2, 3, 4].\n",
        "lst = [1,2,3,4]\n",
        "lst.append(10)\n",
        "print(lst)"
      ],
      "metadata": {
        "colab": {
          "base_uri": "https://localhost:8080/"
        },
        "id": "AjeozMaYYGXF",
        "outputId": "db2655b8-477d-4fa9-d53f-6d9d6632cd82"
      },
      "execution_count": 11,
      "outputs": [
        {
          "output_type": "stream",
          "name": "stdout",
          "text": [
            "[1, 2, 3, 4, 10]\n"
          ]
        }
      ]
    },
    {
      "cell_type": "code",
      "source": [
        "#8. Write a code to remove the number 3 from the list [1, 2, 3, 4, 5].\n",
        "lst = [1, 2, 3, 4, 5]\n",
        "lst.remove(3)\n",
        "print(lst)"
      ],
      "metadata": {
        "colab": {
          "base_uri": "https://localhost:8080/"
        },
        "id": "Akz2zdanYQRk",
        "outputId": "1681b97e-dd83-4cf1-e332-d085795f0335"
      },
      "execution_count": 13,
      "outputs": [
        {
          "output_type": "stream",
          "name": "stdout",
          "text": [
            "[1, 2, 4, 5]\n"
          ]
        }
      ]
    },
    {
      "cell_type": "code",
      "source": [
        "#9. Write a code to access the second element in the list ['a', 'b', 'c', 'd'].\n",
        "lst = ['a', 'b', 'c', 'd']\n",
        "print(lst[1])"
      ],
      "metadata": {
        "colab": {
          "base_uri": "https://localhost:8080/"
        },
        "id": "nWukLLGzYcxU",
        "outputId": "56209e41-287a-411a-cd81-7f7a8b3b2dac"
      },
      "execution_count": 14,
      "outputs": [
        {
          "output_type": "stream",
          "name": "stdout",
          "text": [
            "b\n"
          ]
        }
      ]
    },
    {
      "cell_type": "code",
      "source": [
        "#10. Write a code to reverse the list [10, 20, 30, 40, 50].\n",
        "lst = [10, 20, 30, 40, 50]\n",
        "print(lst[::-1])"
      ],
      "metadata": {
        "colab": {
          "base_uri": "https://localhost:8080/"
        },
        "id": "MvPEyAuEYlmd",
        "outputId": "8c365d1e-9ea4-4543-d214-07164c82794c"
      },
      "execution_count": 19,
      "outputs": [
        {
          "output_type": "stream",
          "name": "stdout",
          "text": [
            "[50, 40, 30, 20, 10]\n"
          ]
        }
      ]
    },
    {
      "cell_type": "code",
      "source": [
        "#11. Write a code to create a tuple with the elements 100, 200, 300 and print it.\n",
        "tple = (100,200,300)\n",
        "print(tple)"
      ],
      "metadata": {
        "colab": {
          "base_uri": "https://localhost:8080/"
        },
        "id": "FxHwm5j4YyAx",
        "outputId": "46f7e04d-f637-4d6b-c217-a5b6232431d6"
      },
      "execution_count": 16,
      "outputs": [
        {
          "output_type": "stream",
          "name": "stdout",
          "text": [
            "(100, 200, 300)\n"
          ]
        }
      ]
    },
    {
      "cell_type": "code",
      "source": [
        "#12. Write a code to access the second-to-last element of the tuple ('red', 'green', 'blue', 'yellow').\n",
        "tple = ('red', 'green', 'blue', 'yellow')\n",
        "print(tple[1:])"
      ],
      "metadata": {
        "colab": {
          "base_uri": "https://localhost:8080/"
        },
        "id": "QgelmRGEY8RJ",
        "outputId": "9c55f3d8-7d00-432a-e5ac-4f004b688d8a"
      },
      "execution_count": 17,
      "outputs": [
        {
          "output_type": "stream",
          "name": "stdout",
          "text": [
            "('green', 'blue', 'yellow')\n"
          ]
        }
      ]
    },
    {
      "cell_type": "code",
      "source": [
        "#13.  Write a code to find the minimum number in the tuple (10, 20, 5, 15).\n",
        "tple = (10, 20, 5, 15)\n",
        "minimum_val = min(tple)\n",
        "print(minimum_val)"
      ],
      "metadata": {
        "colab": {
          "base_uri": "https://localhost:8080/"
        },
        "id": "sYh4bmW_ZQuT",
        "outputId": "90880988-4185-4f8b-b76e-5732d6a2dcc5"
      },
      "execution_count": 22,
      "outputs": [
        {
          "output_type": "stream",
          "name": "stdout",
          "text": [
            "5\n"
          ]
        }
      ]
    },
    {
      "cell_type": "code",
      "source": [
        "#14. Write a code to find the index of the element \"cat\" in the tuple ('dog', 'cat', 'rabbit').\n",
        "tple = ('dog', 'cat', 'rabbit')\n",
        "for i in range(len(tple)):\n",
        "  if 'cat' in tple[i]:\n",
        "    print(i)"
      ],
      "metadata": {
        "colab": {
          "base_uri": "https://localhost:8080/"
        },
        "id": "73Jyy_fhZqMS",
        "outputId": "febc5331-1b07-47c8-f3e2-2fc3ab8d456c"
      },
      "execution_count": 25,
      "outputs": [
        {
          "output_type": "stream",
          "name": "stdout",
          "text": [
            "1\n"
          ]
        }
      ]
    },
    {
      "cell_type": "markdown",
      "source": [],
      "metadata": {
        "id": "3aEGXxTmL_-Q"
      }
    },
    {
      "cell_type": "code",
      "source": [
        "#15.  Write a code to create a tuple containing three different fruits and check if \"kiwi\" is in it.\n",
        "tple = (\"apple\",\"mango\",\"pinapple\")\n",
        "found = 0\n",
        "for i in range(len(tple)):\n",
        "  if \"kiwi\" in tple[i]:\n",
        "    found = 1\n",
        "  else:\n",
        "    found = 0\n",
        "if (found):\n",
        "  print(\"True\")\n",
        "else:\n",
        "  print(\"False\")"
      ],
      "metadata": {
        "colab": {
          "base_uri": "https://localhost:8080/"
        },
        "id": "ZQk5d8_IaJ1c",
        "outputId": "ba3a1f6d-de7c-4e39-d26f-9ddfdd181490"
      },
      "execution_count": 29,
      "outputs": [
        {
          "output_type": "stream",
          "name": "stdout",
          "text": [
            "False\n"
          ]
        }
      ]
    },
    {
      "cell_type": "code",
      "source": [
        "#16. Write a code to create a set with the elements 'a', 'b', 'c' and print it.\n",
        "st = {'a','b','c'}\n",
        "print(st)"
      ],
      "metadata": {
        "colab": {
          "base_uri": "https://localhost:8080/"
        },
        "id": "-JIRt_sla4ca",
        "outputId": "704d84dd-7587-43bc-a31e-6517b5a579a4"
      },
      "execution_count": 33,
      "outputs": [
        {
          "output_type": "stream",
          "name": "stdout",
          "text": [
            "{'b', 'c', 'a'}\n"
          ]
        }
      ]
    },
    {
      "cell_type": "code",
      "source": [
        "#17. Write a code to clear all elements from the set {1, 2, 3, 4, 5}.\n",
        "st = {1, 2, 3, 4, 5}\n",
        "st.clear()\n",
        "print(st)"
      ],
      "metadata": {
        "colab": {
          "base_uri": "https://localhost:8080/"
        },
        "id": "aykVQjBrbLMd",
        "outputId": "cd576def-d394-44ef-f804-957a20ea07e9"
      },
      "execution_count": 35,
      "outputs": [
        {
          "output_type": "stream",
          "name": "stdout",
          "text": [
            "set()\n"
          ]
        }
      ]
    },
    {
      "cell_type": "code",
      "source": [
        "#18. Write a code to remove the element 4 from the set {1, 2, 3, 4}\n",
        "st = {1, 2, 3, 4}\n",
        "st.remove(4)\n",
        "print(st)"
      ],
      "metadata": {
        "colab": {
          "base_uri": "https://localhost:8080/"
        },
        "id": "Ww38kK6HbSCZ",
        "outputId": "9804c8ec-d68e-41ad-8e51-4f04fd304c96"
      },
      "execution_count": 36,
      "outputs": [
        {
          "output_type": "stream",
          "name": "stdout",
          "text": [
            "{1, 2, 3}\n"
          ]
        }
      ]
    },
    {
      "cell_type": "code",
      "source": [
        "#19. Write a code to find the union of two sets {1, 2, 3} and {3, 4, 5}\n",
        "st1 = {1, 2, 3}\n",
        "st2 = {3, 4, 5}\n",
        "print(st1 | st2)"
      ],
      "metadata": {
        "colab": {
          "base_uri": "https://localhost:8080/"
        },
        "id": "HYoEIwDWbaNZ",
        "outputId": "45d0dadf-0d15-4299-e2ba-a1cc1758a998"
      },
      "execution_count": 40,
      "outputs": [
        {
          "output_type": "stream",
          "name": "stdout",
          "text": [
            "{1, 2, 3, 4, 5}\n"
          ]
        }
      ]
    },
    {
      "cell_type": "code",
      "source": [
        "#20.  Write a code to find the intersection of two sets {1, 2, 3} and {2, 3, 4}.\n",
        "st1 = {1, 2, 3}\n",
        "st2 = {2, 3, 4}\n",
        "print(st1 & st2)"
      ],
      "metadata": {
        "colab": {
          "base_uri": "https://localhost:8080/"
        },
        "id": "UxYNR8qybt44",
        "outputId": "3e6b7b0a-9e7e-4a36-8c87-ffb735c093e3"
      },
      "execution_count": 41,
      "outputs": [
        {
          "output_type": "stream",
          "name": "stdout",
          "text": [
            "{2, 3}\n"
          ]
        }
      ]
    },
    {
      "cell_type": "code",
      "source": [
        "#21.Write a code to create a dictionary with the keys \"name\", \"age\", and \"city\", and print it.\n",
        "dct = {\"name\":\"Rafsan\",\"age\":20,\"city\":\"Dhaka\"}\n",
        "print(dct)"
      ],
      "metadata": {
        "colab": {
          "base_uri": "https://localhost:8080/"
        },
        "id": "82Ffholtb3y8",
        "outputId": "0c3402f5-b398-4d3e-a931-2cdd3f96ba38"
      },
      "execution_count": 42,
      "outputs": [
        {
          "output_type": "stream",
          "name": "stdout",
          "text": [
            "{'name': 'Rafsan', 'age': 20, 'city': 'Dhaka'}\n"
          ]
        }
      ]
    },
    {
      "cell_type": "code",
      "source": [
        "#22.  Write a code to add a new key-value pair \"country\": \"USA\" to the dictionary {'name': 'John', 'age': 25}\n",
        "dct =  {'name': 'John', 'age': 25}\n",
        "dct[\"country\"]=\"USA\"\n",
        "print(dct)"
      ],
      "metadata": {
        "colab": {
          "base_uri": "https://localhost:8080/"
        },
        "id": "texjzkHqcLFE",
        "outputId": "83174661-6205-45ea-ceb1-36c5262da0b0"
      },
      "execution_count": 43,
      "outputs": [
        {
          "output_type": "stream",
          "name": "stdout",
          "text": [
            "{'name': 'John', 'age': 25, 'country': 'USA'}\n"
          ]
        }
      ]
    },
    {
      "cell_type": "code",
      "source": [
        "#23.  Write a code to access the value associated with the key \"name\" in the dictionary {'name': 'Alice', 'age': 30}.\n",
        "dct = {'name': 'Alice', 'age': 30}\n",
        "print(dct['name'])"
      ],
      "metadata": {
        "colab": {
          "base_uri": "https://localhost:8080/"
        },
        "id": "hGxuCxtOeu3a",
        "outputId": "c17984fc-660f-42ae-8323-5511c841f357"
      },
      "execution_count": 44,
      "outputs": [
        {
          "output_type": "stream",
          "name": "stdout",
          "text": [
            "Alice\n"
          ]
        }
      ]
    },
    {
      "cell_type": "code",
      "source": [
        "#24.  Write a code to remove the key \"age\" from the dictionary {'name': 'Bob', 'age': 22, 'city': 'New York'}\n",
        "dct = {'name': 'Bob', 'age': 22, 'city': 'New York'}\n",
        "dct.pop('age')\n",
        "print(dct)"
      ],
      "metadata": {
        "colab": {
          "base_uri": "https://localhost:8080/"
        },
        "id": "4GgfOgQMe5DB",
        "outputId": "cbfe7926-b51d-4d10-8e27-de420462fca1"
      },
      "execution_count": 46,
      "outputs": [
        {
          "output_type": "stream",
          "name": "stdout",
          "text": [
            "{'name': 'Bob', 'city': 'New York'}\n"
          ]
        }
      ]
    },
    {
      "cell_type": "code",
      "source": [
        "#25.  Write a code to check if the key \"city\" exists in the dictionary {'name': 'Alice', 'city': 'Paris'}\n",
        "dct = {'name': 'Alice', 'city': 'Paris'}\n",
        "\n",
        "if \"city\" in dct:\n",
        "    print(\"YES\")\n",
        "else:\n",
        "    print(\"NO\")\n",
        ""
      ],
      "metadata": {
        "colab": {
          "base_uri": "https://localhost:8080/"
        },
        "id": "msbKGujHfVzN",
        "outputId": "53e671b8-548d-43b5-a6b2-b2c57324d4fe"
      },
      "execution_count": 48,
      "outputs": [
        {
          "output_type": "stream",
          "name": "stdout",
          "text": [
            "YES\n"
          ]
        }
      ]
    },
    {
      "cell_type": "code",
      "source": [
        "#26.  Write a code to create a list, a tuple, and a dictionary, and print them all.\n",
        "lst = [1,2,3,4,5]\n",
        "tple = (\"a\",\"b\",\"c\")\n",
        "dct = {\"name\":\"rafsan\",\"age\":20}\n",
        "print(lst)\n",
        "print(tple)\n",
        "print(dct)"
      ],
      "metadata": {
        "colab": {
          "base_uri": "https://localhost:8080/"
        },
        "id": "cBSItvRagAiC",
        "outputId": "14faa90c-065b-473c-a0cd-54e0563c7512"
      },
      "execution_count": 49,
      "outputs": [
        {
          "output_type": "stream",
          "name": "stdout",
          "text": [
            "[1, 2, 3, 4, 5]\n",
            "('a', 'b', 'c')\n",
            "{'name': 'rafsan', 'age': 20}\n"
          ]
        }
      ]
    },
    {
      "cell_type": "code",
      "source": [
        "#27. Write a code to create a list of 5 random numbers between 1 and 100, sort it in ascending order, and print the  result.(replaced).\n",
        "import random as rand\n",
        "for i in range(5):\n",
        "  lst=[rand.randint(1,100),rand.randint(1,100),rand.randint(1,100),rand.randint(1,100),rand.randint(1,100)]\n",
        "lst.sort()\n",
        "print(lst)"
      ],
      "metadata": {
        "colab": {
          "base_uri": "https://localhost:8080/"
        },
        "id": "iTS1fyVmgRym",
        "outputId": "b204e6a3-4a91-4d38-f99e-d29f40a0ab9e"
      },
      "execution_count": 64,
      "outputs": [
        {
          "output_type": "stream",
          "name": "stdout",
          "text": [
            "[14, 42, 70, 73, 86]\n"
          ]
        }
      ]
    },
    {
      "cell_type": "code",
      "source": [
        "#28. Write a code to create a list with strings and print the element at the third index.\n",
        "lst = [\"Rafsan\",\"Apple\",\"Dhaka\",\"Nagar\"]\n",
        "print(lst[2])"
      ],
      "metadata": {
        "colab": {
          "base_uri": "https://localhost:8080/"
        },
        "id": "6mdzU1eLg8AG",
        "outputId": "1261db51-0a92-44fe-fbbd-0dbdc12e84bf"
      },
      "execution_count": 65,
      "outputs": [
        {
          "output_type": "stream",
          "name": "stdout",
          "text": [
            "Dhaka\n"
          ]
        }
      ]
    },
    {
      "cell_type": "code",
      "source": [
        "#29. Write a code to combine two dictionaries into one and print the result\n",
        "dct1 ={\"name\":\"Rafsan\",\"age\":20}\n",
        "dct2 = {\"city\":\"dhaka\",\"Time\":3.30}\n",
        "print(dct1 | dct2)"
      ],
      "metadata": {
        "colab": {
          "base_uri": "https://localhost:8080/"
        },
        "id": "WjcD88k7h86H",
        "outputId": "e4e5bfb9-ae8d-44da-d787-55df58f538b5"
      },
      "execution_count": 71,
      "outputs": [
        {
          "output_type": "stream",
          "name": "stdout",
          "text": [
            "{'name': 'Rafsan', 'age': 20, 'city': 'dhaka', 'Time': 3.3}\n"
          ]
        }
      ]
    },
    {
      "cell_type": "code",
      "source": [
        "#30.  Write a code to convert a list of strings into a set.\n",
        "lst = [\"Rafsan\",\"Dhaka\",\"Rafsan\",\"Kabir\",\"Lol\",\"Kabir\",\"Bad day\"]\n",
        "print(set(lst))"
      ],
      "metadata": {
        "colab": {
          "base_uri": "https://localhost:8080/"
        },
        "id": "4W0B7Se6izvD",
        "outputId": "02fef1e0-2695-4ee7-9efe-2b00bbc6dfd0"
      },
      "execution_count": 79,
      "outputs": [
        {
          "output_type": "stream",
          "name": "stdout",
          "text": [
            "{'Kabir', 'Dhaka', 'Bad day', 'Rafsan', 'Lol'}\n"
          ]
        }
      ]
    }
  ]
}